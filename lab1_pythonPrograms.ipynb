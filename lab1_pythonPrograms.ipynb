{
 "cells": [
  {
   "cell_type": "markdown",
   "id": "49f57665",
   "metadata": {},
   "source": [
    "# Mohit Kumar Rauniyar [BL.EN.U4CSE22089]"
   ]
  },
  {
   "cell_type": "markdown",
   "id": "bb30a24c",
   "metadata": {},
   "source": [
    "## Set A"
   ]
  },
  {
   "cell_type": "markdown",
   "id": "af3344c3",
   "metadata": {},
   "source": [
    "### Question 1"
   ]
  },
  {
   "cell_type": "code",
   "execution_count": 3,
   "id": "b8a061a5",
   "metadata": {},
   "outputs": [
    {
     "data": {
      "text/plain": [
       "2"
      ]
     },
     "execution_count": 3,
     "metadata": {},
     "output_type": "execute_result"
    }
   ],
   "source": [
    "a = [2, 7, 4, 1, 3, 6]\n",
    "\n",
    "def count_pair(a):\n",
    "    count = 0\n",
    "    for i in range (0,len(a)):\n",
    "        for j in range (i, len(a)):\n",
    "            if(a[i]+a[j] == 10):\n",
    "                count = count + 1\n",
    "    return count\n",
    "\n",
    "count_pair(a)\n"
   ]
  },
  {
   "cell_type": "markdown",
   "id": "d48eb6f9",
   "metadata": {},
   "source": [
    "### Question 2"
   ]
  },
  {
   "cell_type": "code",
   "execution_count": 9,
   "id": "19aaa40b",
   "metadata": {
    "scrolled": true
   },
   "outputs": [
    {
     "name": "stdout",
     "output_type": "stream",
     "text": [
      "Enter the length of list you want to enter: 3\n",
      "Enter element at index 0: 1.2\n",
      "Enter element at index 1: 0.3\n",
      "Enter element at index 2: 4.6\n",
      "4.3\n"
     ]
    }
   ],
   "source": [
    "def read_list():\n",
    "    a=[]\n",
    "    length_of_list = int(input(\"Enter the length of list you want to enter: \"))\n",
    "    for i in range(length_of_list):\n",
    "        number = float(input(f\"Enter element at index {i}: \"))\n",
    "        a.append(number)\n",
    "    return a\n",
    "\n",
    "def check_range(a):\n",
    "    return (len(a) >= 3)\n",
    "\n",
    "def find_range():\n",
    "    a = read_list()\n",
    "    if(check_range(a)):\n",
    "        minimum = a[0]\n",
    "        maximum = a[0]\n",
    "        for i in a:\n",
    "            if(i < minimum):\n",
    "                minimum = i\n",
    "            if(i > maximum):\n",
    "                maximum = i\n",
    "        return (maximum - minimum)\n",
    "    else:\n",
    "        return \"Range determination not possible\"\n",
    "\n",
    "\n",
    "print(find_range())"
   ]
  },
  {
   "cell_type": "markdown",
   "id": "992767c5",
   "metadata": {},
   "source": [
    "### Question 3"
   ]
  },
  {
   "cell_type": "code",
   "execution_count": null,
   "id": "9fd3d905",
   "metadata": {},
   "outputs": [],
   "source": [
    "def read_square_matrix():\n",
    "    rows = int(input(\"Enter the number of rows you want for the matrix: \"))\n",
    "    cols = int(input(\"Enter the number of columnsyou want for the matrix:\"))\n",
    "    matrix = []\n",
    "    if(rows == cols):\n",
    "        for i in range(rows):\n",
    "            row = []\n",
    "            for j in range(cols):\n",
    "                number = int(input(f\"Enter the element at [{i}][{j}]: \"))\n",
    "                row.append(number)\n",
    "            matrix.append(row)\n",
    "        return matrix\n",
    "    else:\n",
    "        return False\n",
    "\n",
    "def power_of_matrix(matrix, m):\n",
    "\n",
    "    if m==0:\n",
    "        return 1\n",
    "    elif m==1:\n",
    "        return matrix\n",
    "    elif m>1:\n",
    "        result = matrix\n",
    "        for i in range(m-1):\n",
    "            result1 = []\n",
    "            for j in range(len(matrix)):\n",
    "                row = []\n",
    "                for k in range(len(matrix)):  \n",
    "                    product = 0\n",
    "                    for l in range(len(matrix)):\n",
    "                        product += result[j][l] * matrix[l][k]\n",
    "                    row.append(product)\n",
    "                result1.append(row)\n",
    "            result = result1\n",
    "        return result\n",
    "def power():\n",
    "    matrix = read_square_matrix()\n",
    "    if(matrix == False):\n",
    "        return \"The matrix you want to enter is not a sqaure matrix\"\n",
    "    else:\n",
    "        m = int(input(\"Enter the power to be raised: \"))\n",
    "        return power_of_matrix(matrix, m)\n",
    "print(power())\n",
    "    \n",
    "                     "
   ]
  },
  {
   "cell_type": "markdown",
   "id": "3451a5c0",
   "metadata": {},
   "source": [
    "### Question 4"
   ]
  },
  {
   "cell_type": "code",
   "execution_count": 23,
   "id": "745b46aa",
   "metadata": {},
   "outputs": [
    {
     "name": "stdout",
     "output_type": "stream",
     "text": [
      "Enter the text: mississippi\n",
      "4\n"
     ]
    }
   ],
   "source": [
    "def count_max_occurrance():\n",
    "    text = str(input(\"Enter the text: \"))\n",
    "    count = 0\n",
    "    dictionary = dict()\n",
    "    for i in text:\n",
    "        if i in dictionary:\n",
    "            dictionary[i] +=1\n",
    "        else:\n",
    "            dictionary[i] = 1\n",
    "    for i in text:\n",
    "        if dictionary[i] > count:\n",
    "            count = dictionary[i]\n",
    "    return count\n",
    "        \n",
    "print(count_max_occurrance())\n",
    "    \n"
   ]
  }
 ],
 "metadata": {
  "kernelspec": {
   "display_name": "Python 3 (ipykernel)",
   "language": "python",
   "name": "python3"
  },
  "language_info": {
   "codemirror_mode": {
    "name": "ipython",
    "version": 3
   },
   "file_extension": ".py",
   "mimetype": "text/x-python",
   "name": "python",
   "nbconvert_exporter": "python",
   "pygments_lexer": "ipython3",
   "version": "3.11.5"
  }
 },
 "nbformat": 4,
 "nbformat_minor": 5
}
