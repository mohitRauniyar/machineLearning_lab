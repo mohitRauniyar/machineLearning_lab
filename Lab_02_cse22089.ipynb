{
 "cells": [
  {
   "cell_type": "markdown",
   "id": "e6b778d5",
   "metadata": {},
   "source": [
    "# Mohit Kumar Rauniyar [BL.EN.U4CSE22089]\n",
    "### Lab_02"
   ]
  },
  {
   "cell_type": "code",
   "execution_count": 81,
   "id": "a89aad02",
   "metadata": {},
   "outputs": [],
   "source": [
    "import pandas as pd\n",
    "import numpy as np\n",
    "import statistics"
   ]
  },
  {
   "cell_type": "code",
   "execution_count": 16,
   "id": "a5840718",
   "metadata": {},
   "outputs": [
    {
     "data": {
      "text/html": [
       "<div>\n",
       "<style scoped>\n",
       "    .dataframe tbody tr th:only-of-type {\n",
       "        vertical-align: middle;\n",
       "    }\n",
       "\n",
       "    .dataframe tbody tr th {\n",
       "        vertical-align: top;\n",
       "    }\n",
       "\n",
       "    .dataframe thead th {\n",
       "        text-align: right;\n",
       "    }\n",
       "</style>\n",
       "<table border=\"1\" class=\"dataframe\">\n",
       "  <thead>\n",
       "    <tr style=\"text-align: right;\">\n",
       "      <th></th>\n",
       "      <th>Customer</th>\n",
       "      <th>Candies (#)</th>\n",
       "      <th>Mangoes (Kg)</th>\n",
       "      <th>Milk Packets (#)</th>\n",
       "      <th>Payment (Rs)</th>\n",
       "    </tr>\n",
       "  </thead>\n",
       "  <tbody>\n",
       "    <tr>\n",
       "      <th>0</th>\n",
       "      <td>C_1</td>\n",
       "      <td>20</td>\n",
       "      <td>6</td>\n",
       "      <td>2</td>\n",
       "      <td>386</td>\n",
       "    </tr>\n",
       "    <tr>\n",
       "      <th>1</th>\n",
       "      <td>C_2</td>\n",
       "      <td>16</td>\n",
       "      <td>3</td>\n",
       "      <td>6</td>\n",
       "      <td>289</td>\n",
       "    </tr>\n",
       "    <tr>\n",
       "      <th>2</th>\n",
       "      <td>C_3</td>\n",
       "      <td>27</td>\n",
       "      <td>6</td>\n",
       "      <td>2</td>\n",
       "      <td>393</td>\n",
       "    </tr>\n",
       "    <tr>\n",
       "      <th>3</th>\n",
       "      <td>C_4</td>\n",
       "      <td>19</td>\n",
       "      <td>1</td>\n",
       "      <td>2</td>\n",
       "      <td>110</td>\n",
       "    </tr>\n",
       "    <tr>\n",
       "      <th>4</th>\n",
       "      <td>C_5</td>\n",
       "      <td>24</td>\n",
       "      <td>4</td>\n",
       "      <td>2</td>\n",
       "      <td>280</td>\n",
       "    </tr>\n",
       "    <tr>\n",
       "      <th>5</th>\n",
       "      <td>C_6</td>\n",
       "      <td>22</td>\n",
       "      <td>1</td>\n",
       "      <td>5</td>\n",
       "      <td>167</td>\n",
       "    </tr>\n",
       "    <tr>\n",
       "      <th>6</th>\n",
       "      <td>C_7</td>\n",
       "      <td>15</td>\n",
       "      <td>4</td>\n",
       "      <td>2</td>\n",
       "      <td>271</td>\n",
       "    </tr>\n",
       "    <tr>\n",
       "      <th>7</th>\n",
       "      <td>C_8</td>\n",
       "      <td>18</td>\n",
       "      <td>4</td>\n",
       "      <td>2</td>\n",
       "      <td>274</td>\n",
       "    </tr>\n",
       "    <tr>\n",
       "      <th>8</th>\n",
       "      <td>C_9</td>\n",
       "      <td>21</td>\n",
       "      <td>1</td>\n",
       "      <td>4</td>\n",
       "      <td>148</td>\n",
       "    </tr>\n",
       "    <tr>\n",
       "      <th>9</th>\n",
       "      <td>C_10</td>\n",
       "      <td>16</td>\n",
       "      <td>2</td>\n",
       "      <td>4</td>\n",
       "      <td>198</td>\n",
       "    </tr>\n",
       "  </tbody>\n",
       "</table>\n",
       "</div>"
      ],
      "text/plain": [
       "  Customer  Candies (#)  Mangoes (Kg)  Milk Packets (#)  Payment (Rs)\n",
       "0      C_1           20             6                 2           386\n",
       "1      C_2           16             3                 6           289\n",
       "2      C_3           27             6                 2           393\n",
       "3      C_4           19             1                 2           110\n",
       "4      C_5           24             4                 2           280\n",
       "5      C_6           22             1                 5           167\n",
       "6      C_7           15             4                 2           271\n",
       "7      C_8           18             4                 2           274\n",
       "8      C_9           21             1                 4           148\n",
       "9     C_10           16             2                 4           198"
      ]
     },
     "execution_count": 16,
     "metadata": {},
     "output_type": "execute_result"
    }
   ],
   "source": [
    "df = pd.read_excel('./Lab Session Data.xlsx', sheet_name=None)\n",
    "purchase_data = df['Purchase data'].iloc[:, :5]\n",
    "purchase_data.head(10)"
   ]
  },
  {
   "cell_type": "code",
   "execution_count": 48,
   "id": "45ab0f33",
   "metadata": {},
   "outputs": [
    {
     "name": "stdout",
     "output_type": "stream",
     "text": [
      "[[20  6  2]\n",
      " [16  3  6]\n",
      " [27  6  2]\n",
      " [19  1  2]\n",
      " [24  4  2]\n",
      " [22  1  5]\n",
      " [15  4  2]\n",
      " [18  4  2]\n",
      " [21  1  4]\n",
      " [16  2  4]]\n",
      "[[386]\n",
      " [289]\n",
      " [393]\n",
      " [110]\n",
      " [280]\n",
      " [167]\n",
      " [271]\n",
      " [274]\n",
      " [148]\n",
      " [198]]\n"
     ]
    }
   ],
   "source": [
    "matrix_A = np.array(purchase_data.iloc[:, 1:4])\n",
    "matrix_C = np.array(purchase_data.iloc[:, 4:])\n",
    "matrix_C.reshape(10,1)\n",
    "print(matrix_A)\n",
    "print(matrix_C)\n"
   ]
  },
  {
   "cell_type": "code",
   "execution_count": 49,
   "id": "8d4dbc33",
   "metadata": {},
   "outputs": [
    {
     "name": "stdout",
     "output_type": "stream",
     "text": [
      "(10, 3)\n",
      "(10, 1)\n"
     ]
    }
   ],
   "source": [
    "print(matrix_A.shape)\n",
    "print(matrix_C.shape)"
   ]
  },
  {
   "cell_type": "code",
   "execution_count": 47,
   "id": "a28a766e",
   "metadata": {},
   "outputs": [
    {
     "name": "stdout",
     "output_type": "stream",
     "text": [
      "3\n",
      "1\n"
     ]
    }
   ],
   "source": [
    "rank_A = np.linalg.matrix_rank(matrix_A)\n",
    "rank_C = np.linalg.matrix_rank(matrix_C)\n",
    "print(rank_A)\n",
    "print(rank_C)"
   ]
  },
  {
   "cell_type": "code",
   "execution_count": 52,
   "id": "d9cc1392",
   "metadata": {},
   "outputs": [
    {
     "name": "stdout",
     "output_type": "stream",
     "text": [
      "[[-0.01008596 -0.03124505  0.01013951  0.0290728   0.0182907   0.01161794\n",
      "  -0.00771348  0.00095458  0.01743623 -0.00542016]\n",
      " [ 0.09059668  0.07263726  0.03172933 -0.09071908 -0.01893196 -0.06926996\n",
      "   0.05675464  0.03152577 -0.07641966  0.00357352]\n",
      " [ 0.00299878  0.15874243 -0.05795468 -0.06609024 -0.06295043  0.03348017\n",
      "   0.01541831 -0.01070461  0.00029003  0.05938755]]\n"
     ]
    }
   ],
   "source": [
    "A_inv = np.linalg.pinv(matrix_A)\n",
    "print(A_inv)"
   ]
  },
  {
   "cell_type": "code",
   "execution_count": 60,
   "id": "6d9db346",
   "metadata": {},
   "outputs": [
    {
     "data": {
      "text/plain": [
       "array([[ 1.],\n",
       "       [55.],\n",
       "       [18.]])"
      ]
     },
     "execution_count": 60,
     "metadata": {},
     "output_type": "execute_result"
    }
   ],
   "source": [
    "cost_of_each_product = np.matmul(A_inv, matrix_C)\n",
    "cost_of_each_product"
   ]
  },
  {
   "cell_type": "code",
   "execution_count": 66,
   "id": "fee4de77",
   "metadata": {},
   "outputs": [
    {
     "data": {
      "text/html": [
       "<div>\n",
       "<style scoped>\n",
       "    .dataframe tbody tr th:only-of-type {\n",
       "        vertical-align: middle;\n",
       "    }\n",
       "\n",
       "    .dataframe tbody tr th {\n",
       "        vertical-align: top;\n",
       "    }\n",
       "\n",
       "    .dataframe thead th {\n",
       "        text-align: right;\n",
       "    }\n",
       "</style>\n",
       "<table border=\"1\" class=\"dataframe\">\n",
       "  <thead>\n",
       "    <tr style=\"text-align: right;\">\n",
       "      <th></th>\n",
       "      <th>Product</th>\n",
       "      <th>Cost</th>\n",
       "    </tr>\n",
       "  </thead>\n",
       "  <tbody>\n",
       "    <tr>\n",
       "      <th>0</th>\n",
       "      <td>Candies (#)</td>\n",
       "      <td>1.0</td>\n",
       "    </tr>\n",
       "    <tr>\n",
       "      <th>1</th>\n",
       "      <td>Mangoes (Kg)</td>\n",
       "      <td>55.0</td>\n",
       "    </tr>\n",
       "    <tr>\n",
       "      <th>2</th>\n",
       "      <td>Milk Packets (#)</td>\n",
       "      <td>18.0</td>\n",
       "    </tr>\n",
       "  </tbody>\n",
       "</table>\n",
       "</div>"
      ],
      "text/plain": [
       "            Product  Cost\n",
       "0       Candies (#)   1.0\n",
       "1      Mangoes (Kg)  55.0\n",
       "2  Milk Packets (#)  18.0"
      ]
     },
     "execution_count": 66,
     "metadata": {},
     "output_type": "execute_result"
    }
   ],
   "source": [
    "model_X = pd.DataFrame({'Product': ['Candies (#)', 'Mangoes (Kg)','Milk Packets (#)'], 'Cost': np.ndarray.tolist(cost_of_each_product.ravel())})\n",
    "model_X"
   ]
  },
  {
   "cell_type": "code",
   "execution_count": null,
   "id": "c024260f",
   "metadata": {},
   "outputs": [],
   "source": []
  },
  {
   "cell_type": "code",
   "execution_count": 59,
   "id": "4169b6ad",
   "metadata": {},
   "outputs": [
    {
     "data": {
      "text/html": [
       "<div>\n",
       "<style scoped>\n",
       "    .dataframe tbody tr th:only-of-type {\n",
       "        vertical-align: middle;\n",
       "    }\n",
       "\n",
       "    .dataframe tbody tr th {\n",
       "        vertical-align: top;\n",
       "    }\n",
       "\n",
       "    .dataframe thead th {\n",
       "        text-align: right;\n",
       "    }\n",
       "</style>\n",
       "<table border=\"1\" class=\"dataframe\">\n",
       "  <thead>\n",
       "    <tr style=\"text-align: right;\">\n",
       "      <th></th>\n",
       "      <th>Customer</th>\n",
       "      <th>Candies (#)</th>\n",
       "      <th>Mangoes (Kg)</th>\n",
       "      <th>Milk Packets (#)</th>\n",
       "      <th>Payment (Rs)</th>\n",
       "      <th>Status</th>\n",
       "    </tr>\n",
       "  </thead>\n",
       "  <tbody>\n",
       "    <tr>\n",
       "      <th>0</th>\n",
       "      <td>C_1</td>\n",
       "      <td>20</td>\n",
       "      <td>6</td>\n",
       "      <td>2</td>\n",
       "      <td>386</td>\n",
       "      <td>Rich</td>\n",
       "    </tr>\n",
       "    <tr>\n",
       "      <th>1</th>\n",
       "      <td>C_2</td>\n",
       "      <td>16</td>\n",
       "      <td>3</td>\n",
       "      <td>6</td>\n",
       "      <td>289</td>\n",
       "      <td>Rich</td>\n",
       "    </tr>\n",
       "    <tr>\n",
       "      <th>2</th>\n",
       "      <td>C_3</td>\n",
       "      <td>27</td>\n",
       "      <td>6</td>\n",
       "      <td>2</td>\n",
       "      <td>393</td>\n",
       "      <td>Rich</td>\n",
       "    </tr>\n",
       "    <tr>\n",
       "      <th>3</th>\n",
       "      <td>C_4</td>\n",
       "      <td>19</td>\n",
       "      <td>1</td>\n",
       "      <td>2</td>\n",
       "      <td>110</td>\n",
       "      <td>Poor</td>\n",
       "    </tr>\n",
       "    <tr>\n",
       "      <th>4</th>\n",
       "      <td>C_5</td>\n",
       "      <td>24</td>\n",
       "      <td>4</td>\n",
       "      <td>2</td>\n",
       "      <td>280</td>\n",
       "      <td>Rich</td>\n",
       "    </tr>\n",
       "    <tr>\n",
       "      <th>5</th>\n",
       "      <td>C_6</td>\n",
       "      <td>22</td>\n",
       "      <td>1</td>\n",
       "      <td>5</td>\n",
       "      <td>167</td>\n",
       "      <td>Poor</td>\n",
       "    </tr>\n",
       "    <tr>\n",
       "      <th>6</th>\n",
       "      <td>C_7</td>\n",
       "      <td>15</td>\n",
       "      <td>4</td>\n",
       "      <td>2</td>\n",
       "      <td>271</td>\n",
       "      <td>Rich</td>\n",
       "    </tr>\n",
       "    <tr>\n",
       "      <th>7</th>\n",
       "      <td>C_8</td>\n",
       "      <td>18</td>\n",
       "      <td>4</td>\n",
       "      <td>2</td>\n",
       "      <td>274</td>\n",
       "      <td>Rich</td>\n",
       "    </tr>\n",
       "    <tr>\n",
       "      <th>8</th>\n",
       "      <td>C_9</td>\n",
       "      <td>21</td>\n",
       "      <td>1</td>\n",
       "      <td>4</td>\n",
       "      <td>148</td>\n",
       "      <td>Poor</td>\n",
       "    </tr>\n",
       "    <tr>\n",
       "      <th>9</th>\n",
       "      <td>C_10</td>\n",
       "      <td>16</td>\n",
       "      <td>2</td>\n",
       "      <td>4</td>\n",
       "      <td>198</td>\n",
       "      <td>Poor</td>\n",
       "    </tr>\n",
       "  </tbody>\n",
       "</table>\n",
       "</div>"
      ],
      "text/plain": [
       "  Customer  Candies (#)  Mangoes (Kg)  Milk Packets (#)  Payment (Rs) Status\n",
       "0      C_1           20             6                 2           386   Rich\n",
       "1      C_2           16             3                 6           289   Rich\n",
       "2      C_3           27             6                 2           393   Rich\n",
       "3      C_4           19             1                 2           110   Poor\n",
       "4      C_5           24             4                 2           280   Rich\n",
       "5      C_6           22             1                 5           167   Poor\n",
       "6      C_7           15             4                 2           271   Rich\n",
       "7      C_8           18             4                 2           274   Rich\n",
       "8      C_9           21             1                 4           148   Poor\n",
       "9     C_10           16             2                 4           198   Poor"
      ]
     },
     "execution_count": 59,
     "metadata": {},
     "output_type": "execute_result"
    }
   ],
   "source": [
    "purchase_data['Status'] = ['Rich' if x > 200 else 'Poor' for x in purchase_data['Payment (Rs)']]\n",
    "purchase_data"
   ]
  },
  {
   "cell_type": "code",
   "execution_count": 67,
   "id": "2f80d0e9",
   "metadata": {},
   "outputs": [
    {
     "data": {
      "text/html": [
       "<div>\n",
       "<style scoped>\n",
       "    .dataframe tbody tr th:only-of-type {\n",
       "        vertical-align: middle;\n",
       "    }\n",
       "\n",
       "    .dataframe tbody tr th {\n",
       "        vertical-align: top;\n",
       "    }\n",
       "\n",
       "    .dataframe thead th {\n",
       "        text-align: right;\n",
       "    }\n",
       "</style>\n",
       "<table border=\"1\" class=\"dataframe\">\n",
       "  <thead>\n",
       "    <tr style=\"text-align: right;\">\n",
       "      <th></th>\n",
       "      <th>Date</th>\n",
       "      <th>Month</th>\n",
       "      <th>Day</th>\n",
       "      <th>Price</th>\n",
       "      <th>Open</th>\n",
       "      <th>High</th>\n",
       "      <th>Low</th>\n",
       "      <th>Volume</th>\n",
       "      <th>Chg%</th>\n",
       "    </tr>\n",
       "  </thead>\n",
       "  <tbody>\n",
       "    <tr>\n",
       "      <th>0</th>\n",
       "      <td>Jun 29, 2021</td>\n",
       "      <td>Jun</td>\n",
       "      <td>Tue</td>\n",
       "      <td>2081.85</td>\n",
       "      <td>2092.00</td>\n",
       "      <td>2126.90</td>\n",
       "      <td>2065.05</td>\n",
       "      <td>1.67M</td>\n",
       "      <td>0.0020</td>\n",
       "    </tr>\n",
       "    <tr>\n",
       "      <th>1</th>\n",
       "      <td>Jun 28, 2021</td>\n",
       "      <td>Jun</td>\n",
       "      <td>Mon</td>\n",
       "      <td>2077.75</td>\n",
       "      <td>2084.00</td>\n",
       "      <td>2112.45</td>\n",
       "      <td>2068.40</td>\n",
       "      <td>707.73K</td>\n",
       "      <td>0.0043</td>\n",
       "    </tr>\n",
       "    <tr>\n",
       "      <th>2</th>\n",
       "      <td>Jun 25, 2021</td>\n",
       "      <td>Jun</td>\n",
       "      <td>Fri</td>\n",
       "      <td>2068.85</td>\n",
       "      <td>2084.35</td>\n",
       "      <td>2088.50</td>\n",
       "      <td>2053.10</td>\n",
       "      <td>475.82K</td>\n",
       "      <td>-0.0020</td>\n",
       "    </tr>\n",
       "    <tr>\n",
       "      <th>3</th>\n",
       "      <td>Jun 24, 2021</td>\n",
       "      <td>Jun</td>\n",
       "      <td>Thu</td>\n",
       "      <td>2072.95</td>\n",
       "      <td>2098.00</td>\n",
       "      <td>2098.00</td>\n",
       "      <td>2066.00</td>\n",
       "      <td>541.51K</td>\n",
       "      <td>-0.0026</td>\n",
       "    </tr>\n",
       "    <tr>\n",
       "      <th>4</th>\n",
       "      <td>Jun 23, 2021</td>\n",
       "      <td>Jun</td>\n",
       "      <td>Wed</td>\n",
       "      <td>2078.25</td>\n",
       "      <td>2102.00</td>\n",
       "      <td>2111.40</td>\n",
       "      <td>2072.00</td>\n",
       "      <td>809.62K</td>\n",
       "      <td>-0.0023</td>\n",
       "    </tr>\n",
       "    <tr>\n",
       "      <th>...</th>\n",
       "      <td>...</td>\n",
       "      <td>...</td>\n",
       "      <td>...</td>\n",
       "      <td>...</td>\n",
       "      <td>...</td>\n",
       "      <td>...</td>\n",
       "      <td>...</td>\n",
       "      <td>...</td>\n",
       "      <td>...</td>\n",
       "    </tr>\n",
       "    <tr>\n",
       "      <th>244</th>\n",
       "      <td>Jul 07, 2020</td>\n",
       "      <td>Jul</td>\n",
       "      <td>Tue</td>\n",
       "      <td>1397.40</td>\n",
       "      <td>1410.00</td>\n",
       "      <td>1411.00</td>\n",
       "      <td>1390.05</td>\n",
       "      <td>480.21K</td>\n",
       "      <td>-0.0024</td>\n",
       "    </tr>\n",
       "    <tr>\n",
       "      <th>245</th>\n",
       "      <td>Jul 06, 2020</td>\n",
       "      <td>Jul</td>\n",
       "      <td>Mon</td>\n",
       "      <td>1400.75</td>\n",
       "      <td>1405.50</td>\n",
       "      <td>1415.50</td>\n",
       "      <td>1394.00</td>\n",
       "      <td>614.93K</td>\n",
       "      <td>-0.0031</td>\n",
       "    </tr>\n",
       "    <tr>\n",
       "      <th>246</th>\n",
       "      <td>Jul 03, 2020</td>\n",
       "      <td>Jul</td>\n",
       "      <td>Fri</td>\n",
       "      <td>1405.10</td>\n",
       "      <td>1415.00</td>\n",
       "      <td>1425.00</td>\n",
       "      <td>1398.00</td>\n",
       "      <td>599.49K</td>\n",
       "      <td>-0.0051</td>\n",
       "    </tr>\n",
       "    <tr>\n",
       "      <th>247</th>\n",
       "      <td>Jul 02, 2020</td>\n",
       "      <td>Jul</td>\n",
       "      <td>Thu</td>\n",
       "      <td>1412.35</td>\n",
       "      <td>1440.00</td>\n",
       "      <td>1467.80</td>\n",
       "      <td>1395.30</td>\n",
       "      <td>2.16M</td>\n",
       "      <td>0.0362</td>\n",
       "    </tr>\n",
       "    <tr>\n",
       "      <th>248</th>\n",
       "      <td>Jul 01, 2020</td>\n",
       "      <td>Jul</td>\n",
       "      <td>Wed</td>\n",
       "      <td>1363.05</td>\n",
       "      <td>1363.65</td>\n",
       "      <td>1377.00</td>\n",
       "      <td>1356.00</td>\n",
       "      <td>383.00K</td>\n",
       "      <td>0.0032</td>\n",
       "    </tr>\n",
       "  </tbody>\n",
       "</table>\n",
       "<p>249 rows × 9 columns</p>\n",
       "</div>"
      ],
      "text/plain": [
       "             Date Month  Day    Price     Open     High      Low   Volume  \\\n",
       "0    Jun 29, 2021   Jun  Tue  2081.85  2092.00  2126.90  2065.05    1.67M   \n",
       "1    Jun 28, 2021   Jun  Mon  2077.75  2084.00  2112.45  2068.40  707.73K   \n",
       "2    Jun 25, 2021   Jun  Fri  2068.85  2084.35  2088.50  2053.10  475.82K   \n",
       "3    Jun 24, 2021   Jun  Thu  2072.95  2098.00  2098.00  2066.00  541.51K   \n",
       "4    Jun 23, 2021   Jun  Wed  2078.25  2102.00  2111.40  2072.00  809.62K   \n",
       "..            ...   ...  ...      ...      ...      ...      ...      ...   \n",
       "244  Jul 07, 2020   Jul  Tue  1397.40  1410.00  1411.00  1390.05  480.21K   \n",
       "245  Jul 06, 2020   Jul  Mon  1400.75  1405.50  1415.50  1394.00  614.93K   \n",
       "246  Jul 03, 2020   Jul  Fri  1405.10  1415.00  1425.00  1398.00  599.49K   \n",
       "247  Jul 02, 2020   Jul  Thu  1412.35  1440.00  1467.80  1395.30    2.16M   \n",
       "248  Jul 01, 2020   Jul  Wed  1363.05  1363.65  1377.00  1356.00  383.00K   \n",
       "\n",
       "       Chg%  \n",
       "0    0.0020  \n",
       "1    0.0043  \n",
       "2   -0.0020  \n",
       "3   -0.0026  \n",
       "4   -0.0023  \n",
       "..      ...  \n",
       "244 -0.0024  \n",
       "245 -0.0031  \n",
       "246 -0.0051  \n",
       "247  0.0362  \n",
       "248  0.0032  \n",
       "\n",
       "[249 rows x 9 columns]"
      ]
     },
     "execution_count": 67,
     "metadata": {},
     "output_type": "execute_result"
    }
   ],
   "source": [
    "irctc_data = df['IRCTC Stock Price']\n",
    "irctc_data"
   ]
  },
  {
   "cell_type": "code",
   "execution_count": 82,
   "id": "43e4bf50",
   "metadata": {},
   "outputs": [
    {
     "data": {
      "text/plain": [
       "1560.663453815261"
      ]
     },
     "execution_count": 82,
     "metadata": {},
     "output_type": "execute_result"
    }
   ],
   "source": [
    "Price_mean = statistics.mean(irctc_data['Price'])\n",
    "Price_mean"
   ]
  },
  {
   "cell_type": "code",
   "execution_count": 83,
   "id": "fd12b7dd",
   "metadata": {},
   "outputs": [
    {
     "data": {
      "text/plain": [
       "58732.365352539186"
      ]
     },
     "execution_count": 83,
     "metadata": {},
     "output_type": "execute_result"
    }
   ],
   "source": [
    "price_variance = statistics.variance(irctc_data['Price'])\n",
    "price_variance"
   ]
  },
  {
   "cell_type": "code",
   "execution_count": 98,
   "id": "162ebc55",
   "metadata": {},
   "outputs": [
    {
     "data": {
      "text/plain": [
       "1550.706"
      ]
     },
     "execution_count": 98,
     "metadata": {},
     "output_type": "execute_result"
    }
   ],
   "source": [
    "filter = irctc_data['Day'] == 'Wed'\n",
    "day_data = irctc_data.where(filter, inplace = False)\n",
    "day_data.dropna(inplace=True)\n",
    "day_data_mean = statistics.mean(day_data['Price'])\n",
    "day_data_mean\n"
   ]
  },
  {
   "cell_type": "code",
   "execution_count": null,
   "id": "d8a0086f",
   "metadata": {},
   "outputs": [],
   "source": []
  }
 ],
 "metadata": {
  "kernelspec": {
   "display_name": "Python 3 (ipykernel)",
   "language": "python",
   "name": "python3"
  },
  "language_info": {
   "codemirror_mode": {
    "name": "ipython",
    "version": 3
   },
   "file_extension": ".py",
   "mimetype": "text/x-python",
   "name": "python",
   "nbconvert_exporter": "python",
   "pygments_lexer": "ipython3",
   "version": "3.11.5"
  }
 },
 "nbformat": 4,
 "nbformat_minor": 5
}
